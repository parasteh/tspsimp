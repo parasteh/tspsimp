{
 "cells": [
  {
   "cell_type": "markdown",
   "metadata": {},
   "source": [
    "# Solving TSP with Deep Rerinforcement Learning#\n",
    "\n",
    "The notebook implements an improvement-base DRL method for solving the TSP problem by iteratively improving a feasible solution.\n",
    "\n",
    "The code is based on the following paper:\n",
    "\n",
    "```\n",
    "Wu, Y., Song, W., Cao, Z., Zhang, J. and Lim, A., 2019. Learning improvement heuristics for solving the travelling salesman problem.\n",
    "```(https://arxiv.org/abs/1912.05784)\n",
    "\n",
    "© National University of Singapore. All Rights Reserved."
   ]
  },
  {
   "cell_type": "markdown",
   "metadata": {},
   "source": [
    "## Prepare: Install dependencies\n",
    "### Install with pip\n",
    "* PyTorch>=1.1\n",
    "* numpy\n",
    "* tqdm\n",
    "* cv2\n",
    "* tensorboard_logger\n",
    "* imageio (optional, for plots)\n",
    "\n",
    "### One more thing\n",
    "For the exception below from package tensorboard_logger,\n",
    "```python\n",
    "AttributeError: module 'scipy.misc' has no attribute 'toimage'\n",
    "```\n",
    "Please refer to [issue #27](https://github.com/TeamHG-Memex/tensorboard_logger/issues/27) to fix it."
   ]
  },
  {
   "cell_type": "code",
   "execution_count": 1,
   "metadata": {},
   "outputs": [],
   "source": [
    "import os\n",
    "import json\n",
    "import pprint\n",
    "\n",
    "import torch\n",
    "import torch.optim as optim\n",
    "from tensorboard_logger import Logger as TbLogger\n",
    "from torch.utils.data import DataLoader\n",
    "\n",
    "from nets.critic_network import CriticNetwork\n",
    "from train import train_epoch, validate\n",
    "from nets.reinforce_baselines import CriticBaseline\n",
    "from nets.attention_model import AttentionModel\n",
    "from utils import torch_load_cpu, load_problem, get_inner_model, move_to\n",
    "from utils.plots import plot_tour\n",
    "\n",
    "import warnings\n",
    "warnings.filterwarnings(\"ignore\", category=Warning)\n",
    "os.environ['KMP_DUPLICATE_LIB_OK']='True'"
   ]
  },
  {
   "cell_type": "markdown",
   "metadata": {},
   "source": [
    "## load the settings for training\n"
   ]
  },
  {
   "cell_type": "code",
   "execution_count": 2,
   "metadata": {},
   "outputs": [],
   "source": [
    "# load the run args\n",
    "%run options\n",
    "\n",
    "# Set the random seed\n",
    "torch.manual_seed(opts.seed)\n",
    "\n",
    "# Optionally configure tensorboard\n",
    "tb_logger = None\n",
    "if not opts.no_tensorboard:\n",
    "    tb_logger = TbLogger(os.path.join(opts.log_dir, \"{}_{}\".format(opts.problem, opts.graph_size), opts.run_name))\n",
    "\n",
    "if not os.path.exists(opts.save_dir):\n",
    "    os.makedirs(opts.save_dir)\n",
    "\n",
    "# Save arguments so exact configuration can always be found\n",
    "with open(os.path.join(opts.save_dir, \"args.json\"), 'w') as f:\n",
    "    json.dump(vars(opts), f, indent=True)\n",
    "\n",
    " # Set the device\n",
    "opts.device = torch.device(\"cuda\" if opts.use_cuda else \"cpu\")"
   ]
  },
  {
   "cell_type": "markdown",
   "metadata": {},
   "source": [
    "The default settings:\n",
    "```\n",
    "Runinig:\n",
    "    devices: GPU if avaliable else CPU\n",
    "    logging to tensorboard: True\n",
    "    logging figures: True\n",
    "    seed used: 1\n",
    "    \n",
    "Problem:\n",
    "    TSP size: 20 nodes\n",
    "    step method: 2-opt\n",
    "    checking feasibility for each step: True\n",
    "    \n",
    "network:\n",
    "    embedding_dim: 128\n",
    "    hidden_dim: 128\n",
    "    n_encoder_layers: 3\n",
    "    n_heads_encoder: 1\n",
    "    n_heads_decoder: 1\n",
    "    normalization: batch\n",
    "    \n",
    "training:\n",
    "    batch_size: 5120\n",
    "    epoch_size: 51200\n",
    "    number of epochs to train: 100\n",
    "    T_max: 200\n",
    "    n_step: 4\n",
    "    gamma: 0.99\n",
    "    learning_rate_init: 1e-4\n",
    "    learning_rate_decay: 0.99\n",
    "    \n",
    "validating:\n",
    "    dataset: './datasets/tsp_20_10000.pkl'\n",
    "    batch_size: 1000\n",
    "    T_max: 1000\n",
    "```"
   ]
  },
  {
   "cell_type": "markdown",
   "metadata": {},
   "source": [
    "### Simplify the training only for demonstration purpose\n",
    "Current setting requires GPUs for efficient learning.\n",
    "It takes around 8 hours on a single GeForce RTX 2080 Ti GPU card.\n",
    "\n",
    "We simplify the settings by reducing the batch size and the epoch size for demo purpose.\n",
    "\n",
    "Please skip this step for a real training."
   ]
  },
  {
   "cell_type": "code",
   "execution_count": 18,
   "metadata": {},
   "outputs": [],
   "source": [
    "# Please skip this for a real training.\n",
    "opts.epoch_size = 32\n",
    "opts.batch_size = 16\n",
    "opts.val_size = 10\n",
    "opts.eval_batch_size = 10"
   ]
  },
  {
   "cell_type": "markdown",
   "metadata": {},
   "source": [
    "## Figure out what's the problem"
   ]
  },
  {
   "cell_type": "code",
   "execution_count": 3,
   "metadata": {},
   "outputs": [
    {
     "name": "stdout",
     "output_type": "stream",
     "text": [
      "TSP with 50 nodes.\n"
     ]
    }
   ],
   "source": [
    "problem = load_problem(opts.problem)(\n",
    "                        p_size = opts.graph_size, # tsp size\n",
    "                        with_assert = not opts.no_assert) # if checking feasibiliy"
   ]
  },
  {
   "cell_type": "markdown",
   "metadata": {},
   "source": [
    "## Initialize our policy network"
   ]
  },
  {
   "cell_type": "code",
   "execution_count": 4,
   "metadata": {},
   "outputs": [
    {
     "ename": "TypeError",
     "evalue": "__init__() missing 1 required positional argument: 'dropout'",
     "output_type": "error",
     "traceback": [
      "\u001b[0;31m---------------------------------------------------------------------------\u001b[0m",
      "\u001b[0;31mTypeError\u001b[0m                                 Traceback (most recent call last)",
      "\u001b[0;32m/tmp/ipykernel_327269/2882867119.py\u001b[0m in \u001b[0;36m<module>\u001b[0;34m\u001b[0m\n\u001b[1;32m      4\u001b[0m \u001b[0;32massert\u001b[0m \u001b[0mmodel_class\u001b[0m \u001b[0;32mis\u001b[0m \u001b[0;32mnot\u001b[0m \u001b[0;32mNone\u001b[0m\u001b[0;34m,\u001b[0m \u001b[0;34m\"Unknown model: {}\"\u001b[0m\u001b[0;34m.\u001b[0m\u001b[0mformat\u001b[0m\u001b[0;34m(\u001b[0m\u001b[0mmodel_class\u001b[0m\u001b[0;34m)\u001b[0m\u001b[0;34m\u001b[0m\u001b[0;34m\u001b[0m\u001b[0m\n\u001b[1;32m      5\u001b[0m \u001b[0;34m\u001b[0m\u001b[0m\n\u001b[0;32m----> 6\u001b[0;31m model = model_class(\n\u001b[0m\u001b[1;32m      7\u001b[0m     \u001b[0mproblem\u001b[0m \u001b[0;34m=\u001b[0m \u001b[0mproblem\u001b[0m\u001b[0;34m,\u001b[0m\u001b[0;34m\u001b[0m\u001b[0;34m\u001b[0m\u001b[0m\n\u001b[1;32m      8\u001b[0m     \u001b[0membedding_dim\u001b[0m \u001b[0;34m=\u001b[0m \u001b[0mopts\u001b[0m\u001b[0;34m.\u001b[0m\u001b[0membedding_dim\u001b[0m\u001b[0;34m,\u001b[0m\u001b[0;34m\u001b[0m\u001b[0;34m\u001b[0m\u001b[0m\n",
      "\u001b[0;31mTypeError\u001b[0m: __init__() missing 1 required positional argument: 'dropout'"
     ]
    }
   ],
   "source": [
    "model_class = {\n",
    "    'attention': AttentionModel,\n",
    "}.get(opts.model, None)\n",
    "assert model_class is not None, \"Unknown model: {}\".format(model_class)\n",
    "                                                           \n",
    "model = model_class(\n",
    "    problem = problem,\n",
    "    embedding_dim = opts.embedding_dim,\n",
    "    hidden_dim = opts.hidden_dim,\n",
    "    n_heads = 1, # can increase for better performance\n",
    "    n_layers = opts.n_encode_layers,\n",
    "    normalization = opts.normalization,\n",
    "    device = opts.device,\n",
    ").to(opts.device)\n",
    "\n",
    "if opts.use_cuda and torch.cuda.device_count() > 1:\n",
    "    model = torch.nn.DataParallel(model)\n",
    "    \n",
    "model"
   ]
  },
  {
   "cell_type": "markdown",
   "metadata": {},
   "source": [
    "## Initialize our critic network"
   ]
  },
  {
   "cell_type": "code",
   "execution_count": 6,
   "metadata": {},
   "outputs": [
    {
     "ename": "TypeError",
     "evalue": "__init__() missing 1 required positional argument: 'dropout'",
     "output_type": "error",
     "traceback": [
      "\u001b[0;31m---------------------------------------------------------------------------\u001b[0m",
      "\u001b[0;31mTypeError\u001b[0m                                 Traceback (most recent call last)",
      "\u001b[0;32m/tmp/ipykernel_327269/2382757357.py\u001b[0m in \u001b[0;36m<module>\u001b[0;34m\u001b[0m\n\u001b[1;32m      1\u001b[0m baseline = CriticBaseline(\n\u001b[0;32m----> 2\u001b[0;31m                 CriticNetwork(\n\u001b[0m\u001b[1;32m      3\u001b[0m                     \u001b[0mproblem\u001b[0m \u001b[0;34m=\u001b[0m \u001b[0mproblem\u001b[0m\u001b[0;34m,\u001b[0m\u001b[0;34m\u001b[0m\u001b[0;34m\u001b[0m\u001b[0m\n\u001b[1;32m      4\u001b[0m                     \u001b[0membedding_dim\u001b[0m \u001b[0;34m=\u001b[0m \u001b[0mopts\u001b[0m\u001b[0;34m.\u001b[0m\u001b[0membedding_dim\u001b[0m\u001b[0;34m,\u001b[0m\u001b[0;34m\u001b[0m\u001b[0;34m\u001b[0m\u001b[0m\n\u001b[1;32m      5\u001b[0m                     \u001b[0mhidden_dim\u001b[0m \u001b[0;34m=\u001b[0m \u001b[0mopts\u001b[0m\u001b[0;34m.\u001b[0m\u001b[0mhidden_dim\u001b[0m\u001b[0;34m,\u001b[0m\u001b[0;34m\u001b[0m\u001b[0;34m\u001b[0m\u001b[0m\n",
      "\u001b[0;31mTypeError\u001b[0m: __init__() missing 1 required positional argument: 'dropout'"
     ]
    }
   ],
   "source": [
    "baseline = CriticBaseline(\n",
    "                CriticNetwork(\n",
    "                    problem = problem,\n",
    "                    embedding_dim = opts.embedding_dim,\n",
    "                    hidden_dim = opts.hidden_dim,\n",
    "                    n_heads = 1, # can increase for better performance\n",
    "                    n_layers = opts.n_encode_layers,\n",
    "                    normalization = opts.normalization,\n",
    "                    device = opts.device,\n",
    "                ).to(opts.device)\n",
    "        )\n",
    "baseline.critic"
   ]
  },
  {
   "cell_type": "markdown",
   "metadata": {},
   "source": [
    " ## Initialize the Adam optimizer and learning rate scheduler"
   ]
  },
  {
   "cell_type": "code",
   "execution_count": 13,
   "metadata": {},
   "outputs": [
    {
     "data": {
      "text/plain": [
       "Adam (\n",
       "Parameter Group 0\n",
       "    amsgrad: False\n",
       "    betas: (0.9, 0.999)\n",
       "    eps: 1e-08\n",
       "    initial_lr: 0.0001\n",
       "    lr: 0.0001\n",
       "    maximize: False\n",
       "    weight_decay: 0\n",
       "\n",
       "Parameter Group 1\n",
       "    amsgrad: False\n",
       "    betas: (0.9, 0.999)\n",
       "    eps: 1e-08\n",
       "    initial_lr: 0.0001\n",
       "    lr: 0.0001\n",
       "    maximize: False\n",
       "    weight_decay: 0\n",
       ")"
      ]
     },
     "execution_count": 13,
     "metadata": {},
     "output_type": "execute_result"
    }
   ],
   "source": [
    "# Initialize optimizer\n",
    "optimizer = optim.Adam(\n",
    "            [{'params': model.parameters(), 'lr': opts.lr_model}]\n",
    "            + (\n",
    "                [{'params': baseline.get_learnable_parameters(), 'lr': opts.lr_critic}]\n",
    "                if len(baseline.get_learnable_parameters()) > 0 else []\n",
    "            )\n",
    "        )\n",
    "\n",
    "# Initialize learning rate scheduler, decay by lr_decay once per epoch!\n",
    "lr_scheduler = optim.lr_scheduler.LambdaLR(optimizer, lambda epoch: opts.lr_decay ** epoch)\n",
    "\n",
    "optimizer"
   ]
  },
  {
   "cell_type": "markdown",
   "metadata": {},
   "source": [
    "## Load the validation datasets"
   ]
  },
  {
   "cell_type": "code",
   "execution_count": 21,
   "metadata": {},
   "outputs": [],
   "source": [
    "val_dataset = problem.make_dataset(size=opts.graph_size,\n",
    "                                   num_samples=11000,\n",
    "                                   filename = opts.val_dataset)"
   ]
  },
  {
   "cell_type": "code",
   "execution_count": 22,
   "metadata": {},
   "outputs": [
    {
     "data": {
      "text/plain": [
       "10000"
      ]
     },
     "execution_count": 22,
     "metadata": {},
     "output_type": "execute_result"
    }
   ],
   "source": [
    "len(list(val_dataset))"
   ]
  },
  {
   "cell_type": "markdown",
   "metadata": {},
   "source": [
    "## Start training !!\n",
    "\n",
    "Let's train 2 epochs with T=100 for example:"
   ]
  },
  {
   "cell_type": "code",
   "execution_count": 24,
   "metadata": {},
   "outputs": [
    {
     "name": "stdout",
     "output_type": "stream",
     "text": [
      "\n",
      "\n",
      "\n",
      "| ********************* Training epoch 0 ********************* |\n",
      "Training with lr=1.000e-04 for run run_name_20200730T131309\n"
     ]
    },
    {
     "name": "stderr",
     "output_type": "stream",
     "text": [
      "training: 100%|████████████████████| 50/50 [00:21<00:00,  2.30it/s]"
     ]
    },
    {
     "name": "stdout",
     "output_type": "stream",
     "text": [
      "Saving model and state...\n",
      "\n",
      "Validating...\n"
     ]
    },
    {
     "name": "stderr",
     "output_type": "stream",
     "text": [
      "\n",
      "rollout: 100%|████████████████████| 1000/1000 [00:16<00:00, 59.43it/s]\n"
     ]
    },
    {
     "name": "stdout",
     "output_type": "stream",
     "text": [
      "\n",
      " ------------------------------------------------------------\n",
      "         Avg total reward:          4.241685   +- 0.332718  \n",
      "          Avg step reward:          0.004242   +- 0.018454  \n",
      "------------------------------------------------------------\n",
      "           Avg init cost:           9.923937   +- 0.394804  \n",
      "  Avg cost after 20% improvement:   7.812395   +- 0.356064  \n",
      "  Avg cost after 40% improvement:   8.460790   +- 0.438866  \n",
      "  Avg cost after 60% improvement:   7.955374   +- 0.452564  \n",
      "  Avg cost after 80% improvement:   7.949316   +- 0.383378  \n",
      "  Avg cost after 100% improvement:  7.953381   +- 0.340813  \n",
      "           Avg best cost:           5.682251   +- 0.208888  \n",
      "------------------------------------------------------------\n",
      "           Avg used time:           1.683686s\n",
      "------------------------------------------------------------ \n",
      "\n",
      "\n",
      "\n",
      "\n",
      "| ********************* Training epoch 1 ********************* |\n",
      "Training with lr=9.900e-05 for run run_name_20200730T131309\n"
     ]
    },
    {
     "name": "stderr",
     "output_type": "stream",
     "text": [
      "training: 100%|████████████████████| 50/50 [00:21<00:00,  2.35it/s]"
     ]
    },
    {
     "name": "stdout",
     "output_type": "stream",
     "text": [
      "Saving model and state...\n",
      "\n",
      "Validating...\n"
     ]
    },
    {
     "name": "stderr",
     "output_type": "stream",
     "text": [
      "\n",
      "rollout: 100%|████████████████████| 1000/1000 [00:16<00:00, 59.53it/s]\n"
     ]
    },
    {
     "name": "stdout",
     "output_type": "stream",
     "text": [
      "\n",
      " ------------------------------------------------------------\n",
      "         Avg total reward:          4.521887   +- 0.343700  \n",
      "          Avg step reward:          0.004522   +- 0.016911  \n",
      "------------------------------------------------------------\n",
      "           Avg init cost:           9.923937   +- 0.394804  \n",
      "  Avg cost after 20% improvement:   7.329743   +- 0.386100  \n",
      "  Avg cost after 40% improvement:   7.252641   +- 0.287185  \n",
      "  Avg cost after 60% improvement:   7.615552   +- 0.334616  \n",
      "  Avg cost after 80% improvement:   7.065089   +- 0.304543  \n",
      "  Avg cost after 100% improvement:  7.979433   +- 0.344634  \n",
      "           Avg best cost:           5.402050   +- 0.164046  \n",
      "------------------------------------------------------------\n",
      "           Avg used time:           1.680866s\n",
      "------------------------------------------------------------ \n",
      "\n"
     ]
    }
   ],
   "source": [
    "opts.T_train = 100\n",
    "opts.n_epochs = 2\n",
    "opts.epoch_start = 0\n",
    "\n",
    "for epoch in range(opts.epoch_start, opts.epoch_start + opts.n_epochs):\n",
    "    train_epoch(\n",
    "        problem,\n",
    "        model,\n",
    "        optimizer,\n",
    "        baseline,\n",
    "        lr_scheduler,\n",
    "        epoch,\n",
    "        val_dataset,\n",
    "        tb_logger,\n",
    "        opts\n",
    "    )"
   ]
  },
  {
   "cell_type": "markdown",
   "metadata": {},
   "source": [
    "## let's show the training logs with Tensorboard"
   ]
  },
  {
   "cell_type": "code",
   "execution_count": 20,
   "metadata": {
    "scrolled": false
   },
   "outputs": [
    {
     "name": "stdout",
     "output_type": "stream",
     "text": [
      "The tensorboard extension is already loaded. To reload it, use:\n",
      "  %reload_ext tensorboard\n"
     ]
    },
    {
     "data": {
      "text/plain": [
       "Reusing TensorBoard on port 6010 (pid 388426), started 0:18:27 ago. (Use '!kill 388426' to kill it.)"
      ]
     },
     "metadata": {},
     "output_type": "display_data"
    },
    {
     "data": {
      "text/html": [
       "\n",
       "      <iframe id=\"tensorboard-frame-acdd0320a13f320a\" width=\"100%\" height=\"800\" frameborder=\"0\">\n",
       "      </iframe>\n",
       "      <script>\n",
       "        (function() {\n",
       "          const frame = document.getElementById(\"tensorboard-frame-acdd0320a13f320a\");\n",
       "          const url = new URL(\"/\", window.location);\n",
       "          const port = 6010;\n",
       "          if (port) {\n",
       "            url.port = port;\n",
       "          }\n",
       "          frame.src = url;\n",
       "        })();\n",
       "      </script>\n",
       "    "
      ],
      "text/plain": [
       "<IPython.core.display.HTML object>"
      ]
     },
     "metadata": {},
     "output_type": "display_data"
    }
   ],
   "source": [
    "logs_base_dir = os.path.join(os.getcwd(),'logs/tsp_20/')\n",
    "\n",
    "%load_ext tensorboard\n",
    "%tensorboard --logdir {logs_base_dir}"
   ]
  },
  {
   "cell_type": "markdown",
   "metadata": {},
   "source": [
    "## Let's see what an actual training looks like"
   ]
  },
  {
   "cell_type": "code",
   "execution_count": 4,
   "metadata": {},
   "outputs": [
    {
     "data": {
      "text/html": [
       "\n",
       "      <iframe id=\"tensorboard-frame-d53469c6430e075c\" width=\"100%\" height=\"800\" frameborder=\"0\">\n",
       "      </iframe>\n",
       "      <script>\n",
       "        (function() {\n",
       "          const frame = document.getElementById(\"tensorboard-frame-d53469c6430e075c\");\n",
       "          const url = new URL(\"/\", window.location);\n",
       "          const port = 6007;\n",
       "          if (port) {\n",
       "            url.port = port;\n",
       "          }\n",
       "          frame.src = url;\n",
       "        })();\n",
       "      </script>\n",
       "    "
      ],
      "text/plain": [
       "<IPython.core.display.HTML object>"
      ]
     },
     "metadata": {},
     "output_type": "display_data"
    }
   ],
   "source": [
    "# start a new tensorboard\n",
    "logs_base_dir = os.path.join(os.getcwd(),'logs/pre_trained')\n",
    "%tensorboard --logdir {logs_base_dir}"
   ]
  },
  {
   "cell_type": "markdown",
   "metadata": {},
   "source": [
    "## We can load the pre-trained model"
   ]
  },
  {
   "cell_type": "code",
   "execution_count": 25,
   "metadata": {},
   "outputs": [
    {
     "name": "stdout",
     "output_type": "stream",
     "text": [
      "  [*] Loading data from ./outputs/tsp_20/tsp_20200714T212735/epoch-99.pt\n"
     ]
    },
    {
     "data": {
      "text/plain": [
       "<All keys matched successfully>"
      ]
     },
     "execution_count": 25,
     "metadata": {},
     "output_type": "execute_result"
    }
   ],
   "source": [
    "opts.load_path = './outputs/tsp_20/tsp_20200714T212735/epoch-99.pt'\n",
    "\n",
    "# Load data from load_path\n",
    "load_data = {}\n",
    "assert opts.load_path is None or opts.resume is None, \"Only one of load path and resume can be given\"\n",
    "load_path = opts.load_path if opts.load_path is not None else opts.resume\n",
    "if load_path is not None:\n",
    "    print('  [*] Loading data from {}'.format(load_path))\n",
    "    load_data = torch_load_cpu(load_path)\n",
    "\n",
    "# Overwrite model parameters by parameters to load\n",
    "model_ = get_inner_model(model)\n",
    "model_.load_state_dict({**model_.state_dict(), **load_data.get('model', {})})"
   ]
  },
  {
   "cell_type": "markdown",
   "metadata": {},
   "source": [
    "### Validate using the loaded model"
   ]
  },
  {
   "cell_type": "code",
   "execution_count": 26,
   "metadata": {},
   "outputs": [
    {
     "name": "stdout",
     "output_type": "stream",
     "text": [
      "\n",
      "Validating...\n"
     ]
    },
    {
     "name": "stderr",
     "output_type": "stream",
     "text": [
      "rollout: 100%|████████████████████| 1000/1000 [00:15<00:00, 63.47it/s]\n"
     ]
    },
    {
     "name": "stdout",
     "output_type": "stream",
     "text": [
      "\n",
      " ------------------------------------------------------------\n",
      "         Avg total reward:          6.164712   +- 0.377554  \n",
      "          Avg step reward:          0.006165   +- 0.019763  \n",
      "------------------------------------------------------------\n",
      "           Avg init cost:           9.923937   +- 0.394804  \n",
      "  Avg cost after 20% improvement:   4.049284   +- 0.118281  \n",
      "  Avg cost after 40% improvement:   3.942811   +- 0.109086  \n",
      "  Avg cost after 60% improvement:   3.923949   +- 0.087778  \n",
      "  Avg cost after 80% improvement:   4.093946   +- 0.136721  \n",
      "  Avg cost after 100% improvement:  3.957371   +- 0.091912  \n",
      "           Avg best cost:           3.759225   +- 0.084913  \n",
      "------------------------------------------------------------\n",
      "           Avg used time:           1.576713s\n",
      "------------------------------------------------------------ \n",
      "\n"
     ]
    }
   ],
   "source": [
    "validate(problem, model, val_dataset, tb_logger, opts)"
   ]
  },
  {
   "cell_type": "markdown",
   "metadata": {},
   "source": [
    "## Let's look inside the model\n",
    "\n",
    "Let's see what happens when solving a particular TSP instance.\n",
    "### Get one TSP instance"
   ]
  },
  {
   "cell_type": "code",
   "execution_count": 27,
   "metadata": {},
   "outputs": [
    {
     "data": {
      "text/plain": [
       "tensor([[[0.4509, 0.8512],\n",
       "         [0.3281, 0.4170],\n",
       "         [0.2536, 0.4560],\n",
       "         [0.6566, 0.6865],\n",
       "         [0.0264, 0.5931],\n",
       "         [0.2647, 0.8877],\n",
       "         [0.9084, 0.8208],\n",
       "         [0.3501, 0.1872],\n",
       "         [0.9299, 0.0127],\n",
       "         [0.1770, 0.8813],\n",
       "         [0.1611, 0.9836],\n",
       "         [0.6462, 0.2009],\n",
       "         [0.5012, 0.6662],\n",
       "         [0.4446, 0.8552],\n",
       "         [0.5352, 0.5726],\n",
       "         [0.9432, 0.0668],\n",
       "         [0.6561, 0.2709],\n",
       "         [0.7097, 0.8725],\n",
       "         [0.6250, 0.1875],\n",
       "         [0.6853, 0.0979]]])"
      ]
     },
     "execution_count": 27,
     "metadata": {},
     "output_type": "execute_result"
    }
   ],
   "source": [
    "instance = next(iter(DataLoader(val_dataset, batch_size = 1)))\n",
    "instance"
   ]
  },
  {
   "cell_type": "markdown",
   "metadata": {},
   "source": [
    "### Get one initial solution"
   ]
  },
  {
   "cell_type": "code",
   "execution_count": 33,
   "metadata": {},
   "outputs": [
    {
     "data": {
      "text/plain": [
       "(tensor([[ 0.,  1.,  2.,  3.,  4.,  5.,  6.,  7.,  8.,  9., 10., 11., 12., 13.,\n",
       "          14., 15., 16., 17., 18., 19.]]),\n",
       " tensor([10.4616]))"
      ]
     },
     "execution_count": 33,
     "metadata": {},
     "output_type": "execute_result"
    }
   ],
   "source": [
    "solution = move_to(\n",
    "        problem.get_initial_solutions('seq', instance), opts.device)\n",
    "\n",
    "cost = problem.get_costs(instance, solution)\n",
    "\n",
    "solution, cost"
   ]
  },
  {
   "cell_type": "markdown",
   "metadata": {},
   "source": [
    "### Plot the initial solution\n"
   ]
  },
  {
   "cell_type": "code",
   "execution_count": 29,
   "metadata": {},
   "outputs": [
    {
     "data": {
      "image/png": "[encoded data removed]",
      "text/plain": [
       "<Figure size 576x432 with 1 Axes>"
      ]
     },
     "metadata": {},
     "output_type": "display_data"
    }
   ],
   "source": [
    "plot_tour(solution, instance[0])"
   ]
  },
  {
   "cell_type": "markdown",
   "metadata": {},
   "source": [
    "### Pass through embedder only \n",
    "\n",
    "To show how embedder works, <br>\n",
    "we can pass the instance and the tour through only the embedder of our policy network, <br>\n",
    "and visualize the tour in the embedded space using PCA."
   ]
  },
  {
   "cell_type": "code",
   "execution_count": 30,
   "metadata": {},
   "outputs": [
    {
     "data": {
      "image/png": "[encoded data removed]",
      "text/plain": [
       "<Figure size 432x288 with 1 Axes>"
      ]
     },
     "metadata": {},
     "output_type": "display_data"
    },
    {
     "data": {
      "text/plain": [
       "tensor([[ 0.,  1.,  2.,  3.,  4.,  5.,  6.,  7.,  8.,  9., 10., 11., 12., 13.,\n",
       "         14., 15., 16., 17., 18., 19.]])"
      ]
     },
     "execution_count": 30,
     "metadata": {},
     "output_type": "execute_result"
    }
   ],
   "source": [
    "# the embedded input x\n",
    "bs, gs, in_d = instance.size()\n",
    "\n",
    "# pass through embedder: current solutions\n",
    "x_embed = model.embedder(instance, solution)\n",
    "\n",
    "# transform the high-dimensional data into two dimensions using PCA\n",
    "from sklearn.decomposition import PCA\n",
    "X = x_embed[0].detach().numpy()\n",
    "pca = PCA(n_components=2)\n",
    "pca.fit(X)\n",
    "out = pca.transform(X)\n",
    "\n",
    "# visualize the tour in the embedded space\n",
    "import matplotlib.pyplot as plt\n",
    "fig, ax = plt.subplots()\n",
    "for i in range(20):\n",
    "    ax.scatter(out[i,0], out[i,1])\n",
    "    plt.annotate(i+1,(out[i,0] - 0.015, out[i,1] - 0.06), fontsize=12) \n",
    "ax.grid(True)\n",
    "\n",
    "plt.show()\n",
    "solution"
   ]
  },
  {
   "cell_type": "markdown",
   "metadata": {},
   "source": [
    "### Pass through encoder and decoder"
   ]
  },
  {
   "cell_type": "code",
   "execution_count": 31,
   "metadata": {},
   "outputs": [
    {
     "data": {
      "image/png": "[encoded data removed]",
      "text/plain": [
       "<Figure size 432x288 with 2 Axes>"
      ]
     },
     "metadata": {},
     "output_type": "display_data"
    }
   ],
   "source": [
    "# pass through encoder: current solutions\n",
    "h_em = model.encoder(x_embed) # torch.Size([2, 50, 128])\n",
    "\n",
    "# get embed graph feature\n",
    "max_pooling = h_em.max(1)[0] # max Pooling\n",
    "graph_feature = model.project_graph(max_pooling)[:, None, :]\n",
    "\n",
    "# get embed node feature\n",
    "node_feature = model.project_node(h_em)\n",
    "\n",
    "# pass through decoder, get log_likelihood and M matrix\n",
    "fusion = node_feature + graph_feature.expand_as(node_feature) # torch.Size([2, 50, 128])\n",
    "log_likelihood, M_value = model.decoder(fusion, None, solution) # att torch.Size([1, 2, 2500])          \n",
    "\n",
    "# get the action table\n",
    "M_value = M_value.detach().view(20,20)\n",
    "M_value[problem.get_swap_mask(solution)[0].view(-1).view(20,20).bool()] = 0\n",
    "\n",
    "# visulize the action table\n",
    "import seaborn as sns; sns.set() \n",
    "sns.heatmap(M_value)\n",
    "plt.show()"
   ]
  },
  {
   "cell_type": "markdown",
   "metadata": {},
   "source": [
    "# After we get this table, we can sample an action for the next step.\n",
    "\n",
    "### Solve this instance by rollout (T = 100)"
   ]
  },
  {
   "cell_type": "code",
   "execution_count": 34,
   "metadata": {},
   "outputs": [
    {
     "name": "stderr",
     "output_type": "stream",
     "text": [
      "rollout: 100%|████████████████████| 100/100 [00:01<00:00, 73.61it/s]\n"
     ]
    },
    {
     "data": {
      "image/png": "[encoded data removed]",
      "text/plain": [
       "<Figure size 576x432 with 1 Axes>"
      ]
     },
     "metadata": {},
     "output_type": "display_data"
    },
    {
     "data": {
      "text/plain": [
       "(tensor([16.,  7.,  1.,  2.,  4.,  9., 10.,  5., 13.,  0., 12., 14.,  3., 17.,\n",
       "          6., 15.,  8., 19., 18., 11.]),\n",
       " tensor([[3.7876]]))"
      ]
     },
     "execution_count": 34,
     "metadata": {},
     "output_type": "execute_result"
    }
   ],
   "source": [
    "from train import rollout\n",
    "x_input = move_to(instance, opts.device) # batch_size, graph_size, 2\n",
    "batch = move_to(instance, opts.device) # batch_size, graph_size, 2\n",
    "\n",
    "model.eval() # change to eval mode\n",
    "best_val, improvement, reward, history_solutions = rollout( problem, \n",
    "                                                             model, \n",
    "                                                             x_input, \n",
    "                                                             instance, \n",
    "                                                             solution, \n",
    "                                                             cost, \n",
    "                                                             opts, \n",
    "                                                             100,\n",
    "                                                             True,\n",
    "                                                             True)\n",
    "\n",
    "best_solution = history_solutions[0][-1,:]\n",
    "plot_tour(best_solution, instance[0])\n",
    "\n",
    "best_solution, best_val"
   ]
  },
  {
   "cell_type": "markdown",
   "metadata": {},
   "source": [
    "### Visualize the improvement process"
   ]
  },
  {
   "cell_type": "code",
   "execution_count": 35,
   "metadata": {},
   "outputs": [
    {
     "name": "stderr",
     "output_type": "stream",
     "text": [
      "\n",
      "tour completed: 100%|██████████| 101/101 [00:14<00:00,  6.79it/s]A\n",
      "\n",
      "record for each instance: 100%|██████████| 1/1 [00:14<00:00, 14.88s/it]\u001b[A\n"
     ]
    }
   ],
   "source": [
    "from utils.record_a_video import record_gif\n",
    "record_gif(instance, history_solutions, filename = 'ep_gif', dpi = 60)"
   ]
  },
  {
   "cell_type": "code",
   "execution_count": 30,
   "metadata": {},
   "outputs": [
    {
     "data": {
      "text/html": [
       "<img src=\"outputs/ep_gif_0.gif\">"
      ],
      "text/plain": [
       "<IPython.core.display.HTML object>"
      ]
     },
     "execution_count": 30,
     "metadata": {},
     "output_type": "execute_result"
    }
   ],
   "source": [
    "from IPython.display import HTML\n",
    "HTML('<img src=\"outputs/ep_gif_0.gif\">')"
   ]
  },
  {
   "cell_type": "markdown",
   "metadata": {},
   "source": [
    "## Any Questions?"
   ]
  }
 ],
 "metadata": {
  "kernelspec": {
   "display_name": "Python 3 (ipykernel)",
   "language": "python",
   "name": "python3"
  },
  "language_info": {
   "codemirror_mode": {
    "name": "ipython",
    "version": 3
   },
   "file_extension": ".py",
   "mimetype": "text/x-python",
   "name": "python",
   "nbconvert_exporter": "python",
   "pygments_lexer": "ipython3",
   "version": "3.9.7"
  }
 },
 "nbformat": 4,
 "nbformat_minor": 2
}
